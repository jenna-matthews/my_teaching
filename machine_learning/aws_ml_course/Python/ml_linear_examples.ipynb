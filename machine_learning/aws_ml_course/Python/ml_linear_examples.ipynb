{
 "cells": [
  {
   "cell_type": "code",
   "execution_count": 2,
   "metadata": {
    "collapsed": true
   },
   "outputs": [],
   "source": [
    "%matplotlib inline\n",
    "import sys\n",
    "import numpy as np\n",
    "import pandas as pd\n",
    "import matplotlib.pyplot as plt\n",
    "import math\n",
    "import os"
   ]
  },
  {
   "cell_type": "markdown",
   "metadata": {},
   "source": [
    "<h4>Hands-on: Linear Regression with AWS ML</h4>\n",
    "Input Features: x<br>\n",
    "Output/Target Feature: y_noisy<br>\n",
    "Objective: Simple exercise to get hands-on experience with AWSML.<br>\n",
    "AWS ML Regression model to predict value of y_noisy for a given x<br>"
   ]
  },
  {
   "cell_type": "code",
   "execution_count": 3,
   "metadata": {
    "collapsed": true
   },
   "outputs": [],
   "source": [
    "def straight_line(x):\n",
    "    return 5*x + 8"
   ]
  },
  {
   "cell_type": "code",
   "execution_count": 4,
   "metadata": {},
   "outputs": [
    {
     "data": {
      "text/plain": [
       "133"
      ]
     },
     "execution_count": 4,
     "metadata": {},
     "output_type": "execute_result"
    }
   ],
   "source": [
    "straight_line(25)"
   ]
  },
  {
   "cell_type": "code",
   "execution_count": 5,
   "metadata": {},
   "outputs": [
    {
     "data": {
      "text/plain": [
       "14.27"
      ]
     },
     "execution_count": 5,
     "metadata": {},
     "output_type": "execute_result"
    }
   ],
   "source": [
    "straight_line(1.254)"
   ]
  },
  {
   "cell_type": "code",
   "execution_count": 6,
   "metadata": {
    "collapsed": true
   },
   "outputs": [],
   "source": [
    "np.random.seed(5)\n",
    "samples = 150\n",
    "x_vals = pd.Series(np.random.rand(samples)*20)\n",
    "y_vals = x_vals.map(straight_line)\n",
    "# Add random noise\n",
    "y_noisy_vals = y_vals + np.random.randn(samples) * 3"
   ]
  },
  {
   "cell_type": "code",
   "execution_count": 7,
   "metadata": {
    "collapsed": true
   },
   "outputs": [],
   "source": [
    "df = pd.DataFrame({'x':x_vals,'y':y_vals, 'y_noisy':y_noisy_vals})"
   ]
  },
  {
   "cell_type": "code",
   "execution_count": 8,
   "metadata": {},
   "outputs": [
    {
     "data": {
      "text/html": [
       "<div>\n",
       "<style>\n",
       "    .dataframe thead tr:only-child th {\n",
       "        text-align: right;\n",
       "    }\n",
       "\n",
       "    .dataframe thead th {\n",
       "        text-align: left;\n",
       "    }\n",
       "\n",
       "    .dataframe tbody tr th {\n",
       "        vertical-align: top;\n",
       "    }\n",
       "</style>\n",
       "<table border=\"1\" class=\"dataframe\">\n",
       "  <thead>\n",
       "    <tr style=\"text-align: right;\">\n",
       "      <th></th>\n",
       "      <th>x</th>\n",
       "      <th>y</th>\n",
       "      <th>y_noisy</th>\n",
       "    </tr>\n",
       "  </thead>\n",
       "  <tbody>\n",
       "    <tr>\n",
       "      <th>0</th>\n",
       "      <td>4.439863</td>\n",
       "      <td>30.199317</td>\n",
       "      <td>27.659911</td>\n",
       "    </tr>\n",
       "    <tr>\n",
       "      <th>1</th>\n",
       "      <td>17.414646</td>\n",
       "      <td>95.073231</td>\n",
       "      <td>102.635654</td>\n",
       "    </tr>\n",
       "    <tr>\n",
       "      <th>2</th>\n",
       "      <td>4.134383</td>\n",
       "      <td>28.671916</td>\n",
       "      <td>24.974757</td>\n",
       "    </tr>\n",
       "    <tr>\n",
       "      <th>3</th>\n",
       "      <td>18.372218</td>\n",
       "      <td>99.861091</td>\n",
       "      <td>102.041951</td>\n",
       "    </tr>\n",
       "    <tr>\n",
       "      <th>4</th>\n",
       "      <td>9.768224</td>\n",
       "      <td>56.841119</td>\n",
       "      <td>56.978985</td>\n",
       "    </tr>\n",
       "  </tbody>\n",
       "</table>\n",
       "</div>"
      ],
      "text/plain": [
       "           x          y     y_noisy\n",
       "0   4.439863  30.199317   27.659911\n",
       "1  17.414646  95.073231  102.635654\n",
       "2   4.134383  28.671916   24.974757\n",
       "3  18.372218  99.861091  102.041951\n",
       "4   9.768224  56.841119   56.978985"
      ]
     },
     "execution_count": 8,
     "metadata": {},
     "output_type": "execute_result"
    }
   ],
   "source": [
    "df.head()"
   ]
  },
  {
   "cell_type": "code",
   "execution_count": 9,
   "metadata": {},
   "outputs": [
    {
     "data": {
      "text/html": [
       "<div>\n",
       "<style>\n",
       "    .dataframe thead tr:only-child th {\n",
       "        text-align: right;\n",
       "    }\n",
       "\n",
       "    .dataframe thead th {\n",
       "        text-align: left;\n",
       "    }\n",
       "\n",
       "    .dataframe tbody tr th {\n",
       "        vertical-align: top;\n",
       "    }\n",
       "</style>\n",
       "<table border=\"1\" class=\"dataframe\">\n",
       "  <thead>\n",
       "    <tr style=\"text-align: right;\">\n",
       "      <th></th>\n",
       "      <th>x</th>\n",
       "      <th>y</th>\n",
       "      <th>y_noisy</th>\n",
       "    </tr>\n",
       "  </thead>\n",
       "  <tbody>\n",
       "    <tr>\n",
       "      <th>x</th>\n",
       "      <td>1.000000</td>\n",
       "      <td>1.000000</td>\n",
       "      <td>0.995633</td>\n",
       "    </tr>\n",
       "    <tr>\n",
       "      <th>y</th>\n",
       "      <td>1.000000</td>\n",
       "      <td>1.000000</td>\n",
       "      <td>0.995633</td>\n",
       "    </tr>\n",
       "    <tr>\n",
       "      <th>y_noisy</th>\n",
       "      <td>0.995633</td>\n",
       "      <td>0.995633</td>\n",
       "      <td>1.000000</td>\n",
       "    </tr>\n",
       "  </tbody>\n",
       "</table>\n",
       "</div>"
      ],
      "text/plain": [
       "                x         y   y_noisy\n",
       "x        1.000000  1.000000  0.995633\n",
       "y        1.000000  1.000000  0.995633\n",
       "y_noisy  0.995633  0.995633  1.000000"
      ]
     },
     "execution_count": 9,
     "metadata": {},
     "output_type": "execute_result"
    }
   ],
   "source": [
    "# Correlation will indicate how strongly features are related to the output\n",
    "df.corr()"
   ]
  },
  {
   "cell_type": "code",
   "execution_count": 10,
   "metadata": {},
   "outputs": [
    {
     "data": {
      "text/plain": [
       "<matplotlib.legend.Legend at 0x11b12acf8>"
      ]
     },
     "execution_count": 10,
     "metadata": {},
     "output_type": "execute_result"
    },
    {
     "data": {
      "image/png": "[encoded data removed]",
      "text/plain": [
       "<Figure size 432x288 with 1 Axes>"
      ]
     },
     "metadata": {},
     "output_type": "display_data"
    }
   ],
   "source": [
    "plt.scatter(x=df.x,y=df.y,label='ideal fit')\n",
    "plt.scatter(x=df.x,y=df.y_noisy, color='r',marker='+',label='Target')\n",
    "plt.grid(True)\n",
    "plt.xlabel('Input Feature')\n",
    "plt.ylabel('Target')\n",
    "plt.legend()"
   ]
  },
  {
   "cell_type": "markdown",
   "metadata": {},
   "source": [
    "<h4>Training and Evaluation Set</h4>\n",
    "Export Row Number, 'x' and 'y_noisy' columns to a CSV file<br>\n",
    "Row number will not be used for training the model. It is simply used as unique identifier"
   ]
  },
  {
   "cell_type": "code",
   "execution_count": 11,
   "metadata": {
    "collapsed": true
   },
   "outputs": [],
   "source": [
    "data_path = r'/Users/jennaolsen/Dropbox/AWS_WhiteRabbit/AWSMLCourse/Data/RegressionExamples/straight_line'"
   ]
  },
  {
   "cell_type": "code",
   "execution_count": 12,
   "metadata": {
    "collapsed": true
   },
   "outputs": [],
   "source": [
    "df.to_csv(os.path.join(data_path,'straight_line_example_all.csv'),index=True,index_label='Row')"
   ]
  },
  {
   "cell_type": "code",
   "execution_count": 13,
   "metadata": {
    "collapsed": true
   },
   "outputs": [],
   "source": [
    "# 130 rows for Training + Eval Set\n",
    "df[df.index < 130].to_csv(os.path.join(data_path,'straight_line_noisy_example_train.csv')\n",
    "                          ,index=True,index_label='Row'\n",
    "                          ,columns=['x','y_noisy'])"
   ]
  },
  {
   "cell_type": "markdown",
   "metadata": {},
   "source": [
    "<h4>Test Set</h4>\n",
    "Test set should contain the same features expect for the target.<br>\n",
    "Export Row Number, 'x'."
   ]
  },
  {
   "cell_type": "code",
   "execution_count": 14,
   "metadata": {
    "collapsed": true
   },
   "outputs": [],
   "source": [
    "# run all the samples for prediction\n",
    "df.to_csv(\n",
    "    os.path.join(data_path,'straight_line_example_test_all.csv'),\n",
    "    index=True,index_label='Row', columns='x')"
   ]
  },
  {
   "cell_type": "markdown",
   "metadata": {},
   "source": [
    "<h4>Read the target predicted by AWS ML</h4>"
   ]
  },
  {
   "cell_type": "code",
   "execution_count": 16,
   "metadata": {},
   "outputs": [],
   "source": [
    "df_predicted = pd.read_csv(os.path.join(data_path,\n",
    "                                        'output_straight_line_noisy',\n",
    "                                        '/Users/jennaolsen/Dropbox/AWS_WhiteRabbit/AWSMLCourse/bp-J5F47OsbyKA-straight_line_example_test_all.csv.gz'))"
   ]
  },
  {
   "cell_type": "markdown",
   "metadata": {},
   "source": [
    "<h4>AWS ML Estimated/Predicted</h4>\n",
    "Estimated/Predicted value is reported as 'score'. <br>\n",
    "Tag is the row identifier"
   ]
  },
  {
   "cell_type": "code",
   "execution_count": 17,
   "metadata": {},
   "outputs": [
    {
     "data": {
      "text/html": [
       "<div>\n",
       "<style>\n",
       "    .dataframe thead tr:only-child th {\n",
       "        text-align: right;\n",
       "    }\n",
       "\n",
       "    .dataframe thead th {\n",
       "        text-align: left;\n",
       "    }\n",
       "\n",
       "    .dataframe tbody tr th {\n",
       "        vertical-align: top;\n",
       "    }\n",
       "</style>\n",
       "<table border=\"1\" class=\"dataframe\">\n",
       "  <thead>\n",
       "    <tr style=\"text-align: right;\">\n",
       "      <th></th>\n",
       "      <th>tag</th>\n",
       "      <th>score</th>\n",
       "    </tr>\n",
       "  </thead>\n",
       "  <tbody>\n",
       "    <tr>\n",
       "      <th>0</th>\n",
       "      <td>0</td>\n",
       "      <td>31.41695</td>\n",
       "    </tr>\n",
       "    <tr>\n",
       "      <th>1</th>\n",
       "      <td>1</td>\n",
       "      <td>103.71540</td>\n",
       "    </tr>\n",
       "    <tr>\n",
       "      <th>2</th>\n",
       "      <td>2</td>\n",
       "      <td>21.76868</td>\n",
       "    </tr>\n",
       "    <tr>\n",
       "      <th>3</th>\n",
       "      <td>3</td>\n",
       "      <td>99.43644</td>\n",
       "    </tr>\n",
       "    <tr>\n",
       "      <th>4</th>\n",
       "      <td>4</td>\n",
       "      <td>56.91307</td>\n",
       "    </tr>\n",
       "  </tbody>\n",
       "</table>\n",
       "</div>"
      ],
      "text/plain": [
       "   tag      score\n",
       "0    0   31.41695\n",
       "1    1  103.71540\n",
       "2    2   21.76868\n",
       "3    3   99.43644\n",
       "4    4   56.91307"
      ]
     },
     "execution_count": 17,
     "metadata": {},
     "output_type": "execute_result"
    }
   ],
   "source": [
    "df_predicted.head()"
   ]
  },
  {
   "cell_type": "code",
   "execution_count": 18,
   "metadata": {
    "collapsed": true
   },
   "outputs": [],
   "source": [
    "df_predicted.columns = [\"Row\",\"y_predicted\"]"
   ]
  },
  {
   "cell_type": "code",
   "execution_count": 19,
   "metadata": {
    "collapsed": true
   },
   "outputs": [],
   "source": [
    "df_predicted.index = df_predicted.Row"
   ]
  },
  {
   "cell_type": "code",
   "execution_count": 20,
   "metadata": {},
   "outputs": [
    {
     "data": {
      "text/html": [
       "<div>\n",
       "<style>\n",
       "    .dataframe thead tr:only-child th {\n",
       "        text-align: right;\n",
       "    }\n",
       "\n",
       "    .dataframe thead th {\n",
       "        text-align: left;\n",
       "    }\n",
       "\n",
       "    .dataframe tbody tr th {\n",
       "        vertical-align: top;\n",
       "    }\n",
       "</style>\n",
       "<table border=\"1\" class=\"dataframe\">\n",
       "  <thead>\n",
       "    <tr style=\"text-align: right;\">\n",
       "      <th></th>\n",
       "      <th>Row</th>\n",
       "      <th>y_predicted</th>\n",
       "    </tr>\n",
       "    <tr>\n",
       "      <th>Row</th>\n",
       "      <th></th>\n",
       "      <th></th>\n",
       "    </tr>\n",
       "  </thead>\n",
       "  <tbody>\n",
       "    <tr>\n",
       "      <th>0</th>\n",
       "      <td>0</td>\n",
       "      <td>31.41695</td>\n",
       "    </tr>\n",
       "    <tr>\n",
       "      <th>1</th>\n",
       "      <td>1</td>\n",
       "      <td>103.71540</td>\n",
       "    </tr>\n",
       "    <tr>\n",
       "      <th>2</th>\n",
       "      <td>2</td>\n",
       "      <td>21.76868</td>\n",
       "    </tr>\n",
       "    <tr>\n",
       "      <th>3</th>\n",
       "      <td>3</td>\n",
       "      <td>99.43644</td>\n",
       "    </tr>\n",
       "    <tr>\n",
       "      <th>4</th>\n",
       "      <td>4</td>\n",
       "      <td>56.91307</td>\n",
       "    </tr>\n",
       "  </tbody>\n",
       "</table>\n",
       "</div>"
      ],
      "text/plain": [
       "     Row  y_predicted\n",
       "Row                  \n",
       "0      0     31.41695\n",
       "1      1    103.71540\n",
       "2      2     21.76868\n",
       "3      3     99.43644\n",
       "4      4     56.91307"
      ]
     },
     "execution_count": 20,
     "metadata": {},
     "output_type": "execute_result"
    }
   ],
   "source": [
    "df_predicted.head()"
   ]
  },
  {
   "cell_type": "markdown",
   "metadata": {},
   "source": [
    "<h4>Plot actual value and predicted value</h4>"
   ]
  },
  {
   "cell_type": "code",
   "execution_count": 21,
   "metadata": {},
   "outputs": [
    {
     "data": {
      "text/plain": [
       "<matplotlib.legend.Legend at 0x11b6d3f60>"
      ]
     },
     "execution_count": 21,
     "metadata": {},
     "output_type": "execute_result"
    },
    {
     "data": {
      "image/png": "[encoded data removed]",
      "text/plain": [
       "<Figure size 432x288 with 1 Axes>"
      ]
     },
     "metadata": {},
     "output_type": "display_data"
    }
   ],
   "source": [
    "plt.scatter(x=df.x,y=df.y_noisy,color='r',label='actual',)\n",
    "plt.scatter(x=df.x,y=df_predicted.y_predicted,color='b',label='predicted')\n",
    "plt.grid(True)\n",
    "plt.legend()"
   ]
  },
  {
   "cell_type": "code",
   "execution_count": 22,
   "metadata": {},
   "outputs": [
    {
     "data": {
      "text/plain": [
       "<matplotlib.lines.Line2D at 0x10fe9a3c8>"
      ]
     },
     "execution_count": 22,
     "metadata": {},
     "output_type": "execute_result"
    },
    {
     "data": {
      "image/png": "[encoded data removed]",
      "text/plain": [
       "<Figure size 432x288 with 1 Axes>"
      ]
     },
     "metadata": {},
     "output_type": "display_data"
    }
   ],
   "source": [
    "# Training Data Residuals\n",
    "residuals = (df_predicted.y_predicted - df.y_noisy)\n",
    "\n",
    "plt.hist(residuals)\n",
    "plt.grid(True)\n",
    "plt.xlabel('(Predicted - Actual)')\n",
    "plt.ylabel('Count')\n",
    "plt.title('Residuals Distribution')\n",
    "plt.axvline(color='g')\n",
    "# left of 0 = prediction < actual\n",
    "# right of 0 = prediction > actual"
   ]
  },
  {
   "cell_type": "code",
   "execution_count": 23,
   "metadata": {},
   "outputs": [
    {
     "data": {
      "image/png": "[encoded data removed]",
      "text/plain": [
       "<Figure size 432x288 with 1 Axes>"
      ]
     },
     "metadata": {},
     "output_type": "display_data"
    }
   ],
   "source": [
    "plt.boxplot([df.y_noisy,df_predicted.y_predicted], labels=['actual','predicted'])\n",
    "plt.title('Box Plot - Actual, Predicted')\n",
    "plt.ylabel('Target')\n",
    "plt.grid(True)"
   ]
  },
  {
   "cell_type": "markdown",
   "metadata": {},
   "source": [
    "<h4>Predicted value has lot more noise</h4>\n",
    "Default AWS ML setting transformed x from numeric to bins.<br>\n",
    "In this case, binning caused more jitter.<br>\n",
    "Let's rerun the model by updating recipe to treat x as numeric<br>\n",
    "Model with x binned: <br>\n",
    "Training rmse=14.5376, Evaluation rmse=13.011,  Baseline rmse=30.404<br>\n",
    "Model with x as numeric: <br>\n",
    "Training rmse=4.4563, Evaluation rmse=2.4838, Baseline rmse=30.404\n"
   ]
  },
  {
   "cell_type": "code",
   "execution_count": 25,
   "metadata": {
    "collapsed": true
   },
   "outputs": [],
   "source": [
    "df_predicted_numeric = pd.read_csv(os.path.join(data_path,\n",
    "                                        'output_straight_line_noisy_numeric',\n",
    "                                        '/Users/jennaolsen/Dropbox/AWS_WhiteRabbit/AWSMLCourse/bp-1mpypDzM26J-straight_line_example_test_all.csv.gz'))"
   ]
  },
  {
   "cell_type": "code",
   "execution_count": 26,
   "metadata": {
    "collapsed": true
   },
   "outputs": [],
   "source": [
    "df_predicted_numeric.columns = [\"Row\",\"y_predicted\"]"
   ]
  },
  {
   "cell_type": "code",
   "execution_count": 27,
   "metadata": {},
   "outputs": [
    {
     "data": {
      "text/plain": [
       "<matplotlib.legend.Legend at 0x11b8ebe80>"
      ]
     },
     "execution_count": 27,
     "metadata": {},
     "output_type": "execute_result"
    },
    {
     "data": {
      "image/png": "[encoded data removed]",
      "text/plain": [
       "<Figure size 432x288 with 1 Axes>"
      ]
     },
     "metadata": {},
     "output_type": "display_data"
    }
   ],
   "source": [
    "plt.scatter(x=df.x,y=df.y_noisy,color='r',label='actual',)\n",
    "plt.scatter(x=df.x,y=df_predicted.y_predicted,color='k',label='predicted bin')\n",
    "plt.scatter(x=df.x,y=df_predicted_numeric.y_predicted,color='b',label='predicted num')\n",
    "plt.legend()"
   ]
  },
  {
   "cell_type": "code",
   "execution_count": 28,
   "metadata": {},
   "outputs": [
    {
     "data": {
      "image/png": "[encoded data removed]",
      "text/plain": [
       "<Figure size 432x288 with 1 Axes>"
      ]
     },
     "metadata": {},
     "output_type": "display_data"
    }
   ],
   "source": [
    "plt.boxplot([df.y_noisy,df_predicted.y_predicted,df_predicted_numeric.y_predicted], \n",
    "            labels=['actual','predicted-bin','predicted-numeric'])\n",
    "plt.title('Box Plot - Actual, Predicted')\n",
    "plt.ylabel('Target')\n",
    "plt.grid(True)"
   ]
  },
  {
   "cell_type": "markdown",
   "metadata": {},
   "source": [
    "<h4>Summary</h4>\n",
    "\n",
    "RMSE (Root Mean Square Error) is the evaluation metric for Linear Regression.  Smaller the value of RMSE, better the predictive accuracy of model. Perfect model would have RMSE of 0.\n",
    "\n",
    "To prepare data for AWS ML, it requires data to be in:\n",
    "1. CSV file available in S3\n",
    "2. AWS Redshift Datawarehouse\n",
    "3. AWS Relational Database Service (RDS) MySQL DB\n",
    "\n",
    "Batch Prediction results are stored by AWS ML to S3 in the specified bucket\n",
    "\n",
    "We pulled the data from S3 to local folder and plotted them\n",
    "\n",
    "Based on the distribution of data, AWS ML suggests a recipe for processing data.<br>\n",
    "In case of numeric features, it may suggest binning the data instead of treating a raw numeric<br>\n",
    "For this example, treating x as numeric provided best results."
   ]
  },
  {
   "cell_type": "code",
   "execution_count": null,
   "metadata": {
    "collapsed": true
   },
   "outputs": [],
   "source": []
  }
 ],
 "metadata": {
  "kernelspec": {
   "display_name": "Python 3",
   "language": "python",
   "name": "python3"
  },
  "language_info": {
   "codemirror_mode": {
    "name": "ipython",
    "version": 3
   },
   "file_extension": ".py",
   "mimetype": "text/x-python",
   "name": "python",
   "nbconvert_exporter": "python",
   "pygments_lexer": "ipython3",
   "version": "3.6.3"
  }
 },
 "nbformat": 4,
 "nbformat_minor": 1
}
